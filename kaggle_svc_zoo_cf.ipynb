{
  "nbformat": 4,
  "nbformat_minor": 0,
  "metadata": {
    "colab": {
      "name": "kaggle_animal_classifier.ipynb",
      "provenance": [],
      "collapsed_sections": []
    },
    "kernelspec": {
      "name": "python3",
      "display_name": "Python 3"
    }
  },
  "cells": [
    {
      "cell_type": "code",
      "metadata": {
        "id": "MEo8eoT5Jj5_",
        "colab_type": "code",
        "outputId": "484d2700-6d81-4543-8e2f-834720f68a46",
        "colab": {
          "base_uri": "https://localhost:8080/",
          "height": 547
        }
      },
      "source": [
        "!pip uninstall -y kaggle\n",
        "!pip install --upgrade pip\n",
        "!pip install kaggle==1.5.6"
      ],
      "execution_count": 1,
      "outputs": [
        {
          "output_type": "stream",
          "text": [
            "Uninstalling kaggle-1.5.6:\n",
            "  Successfully uninstalled kaggle-1.5.6\n",
            "Collecting pip\n",
            "\u001b[?25l  Downloading https://files.pythonhosted.org/packages/54/2e/df11ea7e23e7e761d484ed3740285a34e38548cf2bad2bed3dd5768ec8b9/pip-20.1-py2.py3-none-any.whl (1.5MB)\n",
            "\u001b[K     |████████████████████████████████| 1.5MB 3.3MB/s \n",
            "\u001b[?25hInstalling collected packages: pip\n",
            "  Found existing installation: pip 19.3.1\n",
            "    Uninstalling pip-19.3.1:\n",
            "      Successfully uninstalled pip-19.3.1\n",
            "Successfully installed pip-20.1\n",
            "Collecting kaggle==1.5.6\n",
            "  Downloading kaggle-1.5.6.tar.gz (58 kB)\n",
            "\u001b[K     |████████████████████████████████| 58 kB 2.0 MB/s \n",
            "\u001b[?25hRequirement already satisfied: urllib3<1.25,>=1.21.1 in /usr/local/lib/python3.6/dist-packages (from kaggle==1.5.6) (1.24.3)\n",
            "Requirement already satisfied: six>=1.10 in /usr/local/lib/python3.6/dist-packages (from kaggle==1.5.6) (1.12.0)\n",
            "Requirement already satisfied: certifi in /usr/local/lib/python3.6/dist-packages (from kaggle==1.5.6) (2020.4.5.1)\n",
            "Requirement already satisfied: python-dateutil in /usr/local/lib/python3.6/dist-packages (from kaggle==1.5.6) (2.8.1)\n",
            "Requirement already satisfied: requests in /usr/local/lib/python3.6/dist-packages (from kaggle==1.5.6) (2.23.0)\n",
            "Requirement already satisfied: tqdm in /usr/local/lib/python3.6/dist-packages (from kaggle==1.5.6) (4.38.0)\n",
            "Requirement already satisfied: python-slugify in /usr/local/lib/python3.6/dist-packages (from kaggle==1.5.6) (4.0.0)\n",
            "Requirement already satisfied: chardet<4,>=3.0.2 in /usr/local/lib/python3.6/dist-packages (from requests->kaggle==1.5.6) (3.0.4)\n",
            "Requirement already satisfied: idna<3,>=2.5 in /usr/local/lib/python3.6/dist-packages (from requests->kaggle==1.5.6) (2.9)\n",
            "Requirement already satisfied: text-unidecode>=1.3 in /usr/local/lib/python3.6/dist-packages (from python-slugify->kaggle==1.5.6) (1.3)\n",
            "Building wheels for collected packages: kaggle\n",
            "  Building wheel for kaggle (setup.py) ... \u001b[?25l\u001b[?25hdone\n",
            "  Created wheel for kaggle: filename=kaggle-1.5.6-py3-none-any.whl size=72859 sha256=ba3f1dc967204eacf2eef7325a5b5ec8dbb6bb3c46f15d2386b94462d49f962b\n",
            "  Stored in directory: /root/.cache/pip/wheels/01/3e/ff/77407ebac3ef71a79b9166a8382aecf88415a0bcbe3c095a01\n",
            "Successfully built kaggle\n",
            "Installing collected packages: kaggle\n",
            "Successfully installed kaggle-1.5.6\n"
          ],
          "name": "stdout"
        }
      ]
    },
    {
      "cell_type": "code",
      "metadata": {
        "id": "5RQny_D6KzG1",
        "colab_type": "code",
        "outputId": "fe1e5ea3-4e7c-40fc-acab-2b3b8412a502",
        "colab": {
          "base_uri": "https://localhost:8080/",
          "height": 34
        }
      },
      "source": [
        "!mkdir -p ~/.kaggle\n",
        "!cp kaggle.json ~/.kaggle/\n",
        "!chmod 600 ~/.kaggle/kaggle.json\n",
        "!kaggle -v\n"
      ],
      "execution_count": 2,
      "outputs": [
        {
          "output_type": "stream",
          "text": [
            "Kaggle API 1.5.6\n"
          ],
          "name": "stdout"
        }
      ]
    },
    {
      "cell_type": "code",
      "metadata": {
        "id": "IB_kz_w4K_pa",
        "colab_type": "code",
        "outputId": "2470595d-46f9-47c3-acce-479304f775b5",
        "colab": {
          "base_uri": "https://localhost:8080/",
          "height": 68
        }
      },
      "source": [
        "!kaggle competitions download -c classification-animal-classification\n"
      ],
      "execution_count": 3,
      "outputs": [
        {
          "output_type": "stream",
          "text": [
            "Downloading classification-animal-classification.zip to /content\n",
            "\r  0% 0.00/999 [00:00<?, ?B/s]\n",
            "\r100% 999/999 [00:00<00:00, 802kB/s]\n"
          ],
          "name": "stdout"
        }
      ]
    },
    {
      "cell_type": "code",
      "metadata": {
        "id": "6Tv8Tr0eLKe4",
        "colab_type": "code",
        "outputId": "57323a45-4a14-44e5-da5e-9e0984797bf9",
        "colab": {
          "base_uri": "https://localhost:8080/",
          "height": 85
        }
      },
      "source": [
        "!unzip classification-animal-classification.zip"
      ],
      "execution_count": 4,
      "outputs": [
        {
          "output_type": "stream",
          "text": [
            "Archive:  classification-animal-classification.zip\n",
            "  inflating: test_des.csv            \n",
            "  inflating: test_summit_form.csv    \n",
            "  inflating: train.csv               \n"
          ],
          "name": "stdout"
        }
      ]
    },
    {
      "cell_type": "code",
      "metadata": {
        "id": "lasLHLv5LQzl",
        "colab_type": "code",
        "outputId": "1ac22d5c-0831-4dc1-da1f-7fd9705175dc",
        "colab": {
          "base_uri": "https://localhost:8080/",
          "height": 85
        }
      },
      "source": [
        "import torch\n",
        "import torch.optim as optim \n",
        "import torch.nn.functional as F \n",
        "# 소프트맥스 함수를 사용하기 위함. \n",
        "import numpy as np \n",
        "# numpy \n",
        "import pandas as pd\n",
        "# pandas \n",
        "from sklearn.svm import SVC\n",
        "\n",
        "torch.manual_seed(1)\n",
        "\n",
        "data_zoo = pd.read_csv('train.csv')\n",
        "data_zoo.head()\n",
        "#print(len(data_zoo))\n",
        "\n",
        "x_data = data_zoo.iloc[:,:-1]\n",
        "#x_data.head()\n",
        "\n",
        "y_data = data_zoo.iloc[:,[-1]]\n",
        "#y_data.head()\n",
        "\n",
        "print(x_data.shape)\n",
        "print(y_data.shape)\n",
        "\n",
        "x_train = torch.FloatTensor(x_data.values)\n",
        "y_train = torch.LongTensor(y_data.values)\n",
        "\n",
        "print(x_train.shape)\n",
        "y_train = y_train.view(80)\n",
        "print(y_train.shape)"
      ],
      "execution_count": 78,
      "outputs": [
        {
          "output_type": "stream",
          "text": [
            "(80, 16)\n",
            "(80, 1)\n",
            "torch.Size([80, 16])\n",
            "torch.Size([80])\n"
          ],
          "name": "stdout"
        }
      ]
    },
    {
      "cell_type": "code",
      "metadata": {
        "id": "gH5hj6NdMBzx",
        "colab_type": "code",
        "outputId": "e4145bbf-dadf-4bb1-99c3-0e08327baaaa",
        "colab": {
          "base_uri": "https://localhost:8080/",
          "height": 391
        }
      },
      "source": [
        "classifier = SVC(kernel = \"rbf\", C = 1.0, gamma = 0.1)\n",
        "classifier.fit(x_train, y_train)\n",
        "print(\"svc training accuracy :\", classifier.score(x_train, y_train))\n",
        "\n",
        "\n",
        "nb_class = 7\n",
        "nb_data = len(y_train)\n",
        "\n",
        "w = torch.zeros((16, nb_class),requires_grad=True)\n",
        "b = torch.zeros(1,requires_grad=True)\n",
        "\n",
        "optimizer = optim.SGD([w,b], lr = 0.05,momentum=0.9)\n",
        "\n",
        "\n",
        "nb_epochs = 200000\n",
        "\n",
        "for epoch in range(nb_epochs+1):\n",
        "\n",
        "    hypothesis = F.softmax(x_train.matmul(w)+b, dim=1) # 소프트맥스 함수 / 가설함수 \n",
        "\n",
        "    y_one_hot = torch.zeros(nb_data, nb_class)\n",
        "    y_one_hot.scatter_(1, y_train.unsqueeze(1), 1)\n",
        "    cost = (y_one_hot * -torch.log(F.softmax(hypothesis, dim=1))).sum(dim=1).mean()\n",
        "    \n",
        "    optimizer.zero_grad()\n",
        "    cost.backward()\n",
        "    optimizer.step()\n",
        "\n",
        "    if epoch % 10000 == 0:\n",
        "        print('epoch {:4d}/{} cost : {:.6f}'.format(\n",
        "            epoch, nb_epochs,cost.item()\n",
        "        ))\n"
      ],
      "execution_count": 79,
      "outputs": [
        {
          "output_type": "stream",
          "text": [
            "training accuracy : 1.0\n",
            "epoch    0/200000 cost : 1.945910\n",
            "epoch 10000/200000 cost : 1.273011\n",
            "epoch 20000/200000 cost : 1.272407\n",
            "epoch 30000/200000 cost : 1.166502\n",
            "epoch 40000/200000 cost : 1.165967\n",
            "epoch 50000/200000 cost : 1.165793\n",
            "epoch 60000/200000 cost : 1.165704\n",
            "epoch 70000/200000 cost : 1.165650\n",
            "epoch 80000/200000 cost : 1.165614\n",
            "epoch 90000/200000 cost : 1.165588\n",
            "epoch 100000/200000 cost : 1.165568\n",
            "epoch 110000/200000 cost : 1.165553\n",
            "epoch 120000/200000 cost : 1.165540\n",
            "epoch 130000/200000 cost : 1.165530\n",
            "epoch 140000/200000 cost : 1.165521\n",
            "epoch 150000/200000 cost : 1.165514\n",
            "epoch 160000/200000 cost : 1.165508\n",
            "epoch 170000/200000 cost : 1.165502\n",
            "epoch 180000/200000 cost : 1.165497\n",
            "epoch 190000/200000 cost : 1.165493\n",
            "epoch 200000/200000 cost : 1.165489\n"
          ],
          "name": "stdout"
        }
      ]
    },
    {
      "cell_type": "code",
      "metadata": {
        "id": "vyRbdy35MgSK",
        "colab_type": "code",
        "outputId": "11c25d7c-f256-48de-a3b8-9be0da8e3ad6",
        "colab": {
          "base_uri": "https://localhost:8080/",
          "height": 34
        }
      },
      "source": [
        "hypothesis = F.softmax(x_train.matmul(w) + b, dim=1) # or .mm or @\n",
        "predict = torch.argmax(hypothesis, dim=1)\n",
        "#print(hypothesis)\n",
        "#print(predict)\n",
        "#print(y_train)\n",
        "\n",
        "# 정확도 계산 \n",
        "correct_prediction = predict.float() == y_train\n",
        "#print(correct_prediction)\n",
        "accuracy = correct_prediction.sum().item() / len(correct_prediction)\n",
        "print('The model has an accuracy of {:2.2f}% for the training set.'.format(accuracy * 100))\n"
      ],
      "execution_count": 80,
      "outputs": [
        {
          "output_type": "stream",
          "text": [
            "The model has an accuracy of 100.00% for the training set.\n"
          ],
          "name": "stdout"
        }
      ]
    },
    {
      "cell_type": "code",
      "metadata": {
        "id": "bskYBKqUOOPq",
        "colab_type": "code",
        "colab": {
          "base_uri": "https://localhost:8080/",
          "height": 85
        },
        "outputId": "6b1e1ee2-20d8-473f-c63c-6826c065f41f"
      },
      "source": [
        "test = pd.read_csv('test_des.csv',header=None)\n",
        "x_data = test.loc[:,0:15]\n",
        "x_data = np.array(x_data)\n",
        "x_test = torch.FloatTensor(x_data)\n",
        "hypothesis = F.softmax(x_test.matmul(w)+b,dim=1)\n",
        "predict = torch.argmax(hypothesis,dim=1)\n",
        "print(predict)\n",
        "\n",
        "y_pred = classifier.predict(x_test)\n",
        "#print(y_pred)\n",
        "y_test = torch.FloatTensor(y_pred)\n",
        "y_test = y_test.int()\n",
        "print(y_test)\n"
      ],
      "execution_count": 82,
      "outputs": [
        {
          "output_type": "stream",
          "text": [
            "tensor([1, 3, 1, 0, 6, 3, 1, 5, 4, 1, 4, 3, 0, 0, 1, 0, 5, 0, 1, 1],\n",
            "       grad_fn=<NotImplemented>)\n",
            "tensor([6, 3, 1, 0, 6, 3, 1, 5, 4, 0, 4, 3, 0, 0, 1, 0, 5, 0, 6, 1],\n",
            "       dtype=torch.int32)\n"
          ],
          "name": "stdout"
        }
      ]
    },
    {
      "cell_type": "code",
      "metadata": {
        "id": "o6IKUidtOq4j",
        "colab_type": "code",
        "colab": {}
      },
      "source": [
        "predict = y_test.detach().numpy().reshape(-1,1)\n",
        "id = np.array([i for i in range(20)]).reshape(-1,1)\n",
        "result = np.hstack([id,predict])\n",
        "df = pd.DataFrame(result,columns=[\"Id\",\"Category\"])\n",
        "df.to_csv(\"result.csv\",index=False,header=True)\n"
      ],
      "execution_count": 0,
      "outputs": []
    },
    {
      "cell_type": "code",
      "metadata": {
        "id": "Zxia_5cCPr1H",
        "colab_type": "code",
        "outputId": "bbab1306-4fd0-42c6-ea0c-43bbd4a25ee4",
        "colab": {
          "base_uri": "https://localhost:8080/",
          "height": 357
        }
      },
      "source": [
        "predict"
      ],
      "execution_count": 84,
      "outputs": [
        {
          "output_type": "execute_result",
          "data": {
            "text/plain": [
              "array([[6],\n",
              "       [3],\n",
              "       [1],\n",
              "       [0],\n",
              "       [6],\n",
              "       [3],\n",
              "       [1],\n",
              "       [5],\n",
              "       [4],\n",
              "       [0],\n",
              "       [4],\n",
              "       [3],\n",
              "       [0],\n",
              "       [0],\n",
              "       [1],\n",
              "       [0],\n",
              "       [5],\n",
              "       [0],\n",
              "       [6],\n",
              "       [1]], dtype=int32)"
            ]
          },
          "metadata": {
            "tags": []
          },
          "execution_count": 84
        }
      ]
    },
    {
      "cell_type": "code",
      "metadata": {
        "id": "JsYSZX-rP3wd",
        "colab_type": "code",
        "outputId": "07ccf6be-bb7c-4650-8054-b00a7451708a",
        "colab": {
          "base_uri": "https://localhost:8080/",
          "height": 357
        }
      },
      "source": [
        "result"
      ],
      "execution_count": 85,
      "outputs": [
        {
          "output_type": "execute_result",
          "data": {
            "text/plain": [
              "array([[ 0,  6],\n",
              "       [ 1,  3],\n",
              "       [ 2,  1],\n",
              "       [ 3,  0],\n",
              "       [ 4,  6],\n",
              "       [ 5,  3],\n",
              "       [ 6,  1],\n",
              "       [ 7,  5],\n",
              "       [ 8,  4],\n",
              "       [ 9,  0],\n",
              "       [10,  4],\n",
              "       [11,  3],\n",
              "       [12,  0],\n",
              "       [13,  0],\n",
              "       [14,  1],\n",
              "       [15,  0],\n",
              "       [16,  5],\n",
              "       [17,  0],\n",
              "       [18,  6],\n",
              "       [19,  1]])"
            ]
          },
          "metadata": {
            "tags": []
          },
          "execution_count": 85
        }
      ]
    },
    {
      "cell_type": "code",
      "metadata": {
        "id": "4aePnv4vP9v8",
        "colab_type": "code",
        "outputId": "2878f34e-d725-4b79-8a6a-0414b6db46d0",
        "colab": {
          "base_uri": "https://localhost:8080/",
          "height": 51
        }
      },
      "source": [
        "!kaggle competitions submit -c classification-animal-classification -f result.csv -m \"14010974_이기택\""
      ],
      "execution_count": 86,
      "outputs": [
        {
          "output_type": "stream",
          "text": [
            "100% 102/102 [00:01<00:00, 58.1B/s]\n",
            "Successfully submitted to Classification : Animal Classification"
          ],
          "name": "stdout"
        }
      ]
    }
  ]
}