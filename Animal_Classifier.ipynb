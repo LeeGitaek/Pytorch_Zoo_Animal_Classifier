{
  "nbformat": 4,
  "nbformat_minor": 0,
  "metadata": {
    "colab": {
      "name": "Animal_Classifier_HW.ipynb",
      "provenance": [],
      "collapsed_sections": []
    },
    "kernelspec": {
      "name": "python3",
      "display_name": "Python 3"
    }
  },
  "cells": [
    {
      "cell_type": "markdown",
      "metadata": {
        "id": "oL8U8ioTaTe_",
        "colab_type": "text"
      },
      "source": [
        "**동물 분류 문제**\n",
        "\n",
        "**동물의 특징에 따른 7 가지 분류**\n",
        "\n",
        "[1] 데이터 로드"
      ]
    },
    {
      "cell_type": "code",
      "metadata": {
        "id": "KXDgfo-MZ7iW",
        "colab_type": "code",
        "outputId": "17bff724-95d3-4be7-a240-f43813abcf49",
        "colab": {
          "base_uri": "https://localhost:8080/",
          "height": 102
        }
      },
      "source": [
        "!curl https://raw.githubusercontent.com/sejongresearch/2020.Spring.AI/master/HW/zoo_class.csv -o zoo_class.csv\n",
        "print('Done..\\n')"
      ],
      "execution_count": 0,
      "outputs": [
        {
          "output_type": "stream",
          "text": [
            "  % Total    % Received % Xferd  Average Speed   Time    Time     Time  Current\n",
            "                                 Dload  Upload   Total   Spent    Left  Speed\n",
            "\r  0     0    0     0    0     0      0      0 --:--:-- --:--:-- --:--:--     0\r100  3535  100  3535    0     0  20085      0 --:--:-- --:--:-- --:--:-- 20085\n",
            "Done..\n",
            "\n"
          ],
          "name": "stdout"
        }
      ]
    },
    {
      "cell_type": "code",
      "metadata": {
        "id": "q1GiaRHab00Y",
        "colab_type": "code",
        "outputId": "3b041016-4b12-4001-a708-7675b41855e7",
        "colab": {
          "base_uri": "https://localhost:8080/",
          "height": 85
        }
      },
      "source": [
        "import torch\n",
        "import torch.optim as optim \n",
        "import torch.nn.functional as F \n",
        "# 소프트맥스 함수를 사용하기 위함. \n",
        "import numpy as np \n",
        "# numpy \n",
        "import pandas as pd\n",
        "# pandas\n",
        "\n",
        "torch.manual_seed(1)\n",
        "\n",
        "data_zoo = pd.read_csv('zoo_class.csv')\n",
        "data_zoo.head()\n",
        "#print(len(data_zoo))\n",
        "\n",
        "x_data = data_zoo.iloc[:,:-1]\n",
        "#x_data.head()\n",
        "\n",
        "y_data = data_zoo.iloc[:,[-1]]\n",
        "#y_data.head()\n",
        "\n",
        "print(x_data.shape)\n",
        "print(y_data.shape)\n",
        "\n",
        "x_train = torch.FloatTensor(x_data.values)\n",
        "y_train = torch.LongTensor(y_data.values)\n",
        "\n",
        "print(x_train.shape)\n",
        "y_train = y_train.view(100)\n",
        "print(y_train.shape)"
      ],
      "execution_count": 0,
      "outputs": [
        {
          "output_type": "stream",
          "text": [
            "(100, 16)\n",
            "(100, 1)\n",
            "torch.Size([100, 16])\n",
            "torch.Size([100])\n"
          ],
          "name": "stdout"
        }
      ]
    },
    {
      "cell_type": "markdown",
      "metadata": {
        "id": "v-8E6epahJ-w",
        "colab_type": "text"
      },
      "source": [
        "[2] 모델 학습 "
      ]
    },
    {
      "cell_type": "code",
      "metadata": {
        "id": "2WGXXH6zhNaJ",
        "colab_type": "code",
        "outputId": "ff91c1ac-3273-4d31-b975-8f9c94b1a9d6",
        "colab": {
          "base_uri": "https://localhost:8080/",
          "height": 204
        }
      },
      "source": [
        "nb_class = 7\n",
        "nb_data = len(y_train)\n",
        "\n",
        "w = torch.zeros((16, nb_class),requires_grad=True)\n",
        "b = torch.zeros(1,requires_grad=True)\n",
        "\n",
        "optimizer = optim.SGD([w,b], lr = 0.05)\n",
        "\n",
        "\n",
        "nb_epochs = 200000\n",
        "\n",
        "for epoch in range(nb_epochs+1):\n",
        "\n",
        "    hypothesis = F.softmax(x_train.matmul(w)+b, dim=1) # 소프트맥스 함수 / 가설함수 \n",
        "\n",
        "    y_one_hot = torch.zeros(nb_data, nb_class)\n",
        "    y_one_hot.scatter_(1, y_train.unsqueeze(1), 1)\n",
        "    cost = (y_one_hot * -torch.log(F.softmax(hypothesis, dim=1))).sum(dim=1).mean()\n",
        "    \n",
        "    optimizer.zero_grad()\n",
        "    cost.backward()\n",
        "    optimizer.step()\n",
        "\n",
        "    if epoch % 10000 == 0:\n",
        "        print('epoch {:4d}/{} cost : {:.6f}'.format(\n",
        "            epoch, nb_epochs,cost.item()\n",
        "        ))"
      ],
      "execution_count": 0,
      "outputs": [
        {
          "output_type": "stream",
          "text": [
            "epoch    0/100000 cost : 1.945910\n",
            "epoch 10000/100000 cost : 1.317136\n",
            "epoch 20000/100000 cost : 1.296551\n",
            "epoch 30000/100000 cost : 1.288721\n",
            "epoch 40000/100000 cost : 1.284782\n",
            "epoch 50000/100000 cost : 1.214139\n",
            "epoch 60000/100000 cost : 1.210443\n",
            "epoch 70000/100000 cost : 1.208711\n",
            "epoch 80000/100000 cost : 1.207669\n",
            "epoch 90000/100000 cost : 1.206963\n",
            "epoch 100000/100000 cost : 1.206439\n"
          ],
          "name": "stdout"
        }
      ]
    },
    {
      "cell_type": "markdown",
      "metadata": {
        "id": "1wB_oA6V2CoE",
        "colab_type": "text"
      },
      "source": [
        "[3] 데이터 정확도"
      ]
    },
    {
      "cell_type": "code",
      "metadata": {
        "id": "4p_eShdG2Ggf",
        "colab_type": "code",
        "outputId": "e44da6be-8f54-49da-90bb-b613fd4b84e9",
        "colab": {
          "base_uri": "https://localhost:8080/",
          "height": 34
        }
      },
      "source": [
        "hypothesis = F.softmax(x_train.matmul(w) + b, dim=1) # or .mm or @\n",
        "predict = torch.argmax(hypothesis, dim=1)\n",
        "#print(hypothesis)\n",
        "#print(predict)\n",
        "#print(y_train)\n",
        "\n",
        "# 정확도 계산 \n",
        "correct_prediction = predict.float() == y_train\n",
        "#print(correct_prediction)\n",
        "accuracy = correct_prediction.sum().item() / len(correct_prediction)\n",
        "print('The model has an accuracy of {:2.2f}% for the training set.'.format(accuracy * 100))\n"
      ],
      "execution_count": 0,
      "outputs": [
        {
          "output_type": "stream",
          "text": [
            "The model has an accuracy of 96.00% for the training set.\n"
          ],
          "name": "stdout"
        }
      ]
    }
  ]
}