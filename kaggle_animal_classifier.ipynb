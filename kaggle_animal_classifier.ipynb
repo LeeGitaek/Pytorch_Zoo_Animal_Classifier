{
  "nbformat": 4,
  "nbformat_minor": 0,
  "metadata": {
    "colab": {
      "name": "kaggle_animal_classifier.ipynb",
      "provenance": []
    },
    "kernelspec": {
      "name": "python3",
      "display_name": "Python 3"
    }
  },
  "cells": [
    {
      "cell_type": "code",
      "metadata": {
        "id": "MEo8eoT5Jj5_",
        "colab_type": "code",
        "colab": {
          "base_uri": "https://localhost:8080/",
          "height": 547
        },
        "outputId": "bc66efca-83b2-4639-c17c-a793be554efa"
      },
      "source": [
        "!pip uninstall -y kaggle\n",
        "!pip install --upgrade pip\n",
        "!pip install kaggle==1.5.6"
      ],
      "execution_count": 2,
      "outputs": [
        {
          "output_type": "stream",
          "text": [
            "Uninstalling kaggle-1.5.6:\n",
            "  Successfully uninstalled kaggle-1.5.6\n",
            "Collecting pip\n",
            "\u001b[?25l  Downloading https://files.pythonhosted.org/packages/54/2e/df11ea7e23e7e761d484ed3740285a34e38548cf2bad2bed3dd5768ec8b9/pip-20.1-py2.py3-none-any.whl (1.5MB)\n",
            "\u001b[K     |████████████████████████████████| 1.5MB 2.9MB/s \n",
            "\u001b[?25hInstalling collected packages: pip\n",
            "  Found existing installation: pip 19.3.1\n",
            "    Uninstalling pip-19.3.1:\n",
            "      Successfully uninstalled pip-19.3.1\n",
            "Successfully installed pip-20.1\n",
            "Collecting kaggle==1.5.6\n",
            "  Downloading kaggle-1.5.6.tar.gz (58 kB)\n",
            "\u001b[K     |████████████████████████████████| 58 kB 1.8 MB/s \n",
            "\u001b[?25hRequirement already satisfied: urllib3<1.25,>=1.21.1 in /usr/local/lib/python3.6/dist-packages (from kaggle==1.5.6) (1.24.3)\n",
            "Requirement already satisfied: six>=1.10 in /usr/local/lib/python3.6/dist-packages (from kaggle==1.5.6) (1.12.0)\n",
            "Requirement already satisfied: certifi in /usr/local/lib/python3.6/dist-packages (from kaggle==1.5.6) (2020.4.5.1)\n",
            "Requirement already satisfied: python-dateutil in /usr/local/lib/python3.6/dist-packages (from kaggle==1.5.6) (2.8.1)\n",
            "Requirement already satisfied: requests in /usr/local/lib/python3.6/dist-packages (from kaggle==1.5.6) (2.21.0)\n",
            "Requirement already satisfied: tqdm in /usr/local/lib/python3.6/dist-packages (from kaggle==1.5.6) (4.38.0)\n",
            "Requirement already satisfied: python-slugify in /usr/local/lib/python3.6/dist-packages (from kaggle==1.5.6) (4.0.0)\n",
            "Requirement already satisfied: idna<2.9,>=2.5 in /usr/local/lib/python3.6/dist-packages (from requests->kaggle==1.5.6) (2.8)\n",
            "Requirement already satisfied: chardet<3.1.0,>=3.0.2 in /usr/local/lib/python3.6/dist-packages (from requests->kaggle==1.5.6) (3.0.4)\n",
            "Requirement already satisfied: text-unidecode>=1.3 in /usr/local/lib/python3.6/dist-packages (from python-slugify->kaggle==1.5.6) (1.3)\n",
            "Building wheels for collected packages: kaggle\n",
            "  Building wheel for kaggle (setup.py) ... \u001b[?25l\u001b[?25hdone\n",
            "  Created wheel for kaggle: filename=kaggle-1.5.6-py3-none-any.whl size=72859 sha256=3ed7d0e9e184719f228edb42bfc32014fe996fd7f7a5148457d34994dcf77d61\n",
            "  Stored in directory: /root/.cache/pip/wheels/01/3e/ff/77407ebac3ef71a79b9166a8382aecf88415a0bcbe3c095a01\n",
            "Successfully built kaggle\n",
            "Installing collected packages: kaggle\n",
            "Successfully installed kaggle-1.5.6\n"
          ],
          "name": "stdout"
        }
      ]
    },
    {
      "cell_type": "code",
      "metadata": {
        "id": "5RQny_D6KzG1",
        "colab_type": "code",
        "colab": {
          "base_uri": "https://localhost:8080/",
          "height": 34
        },
        "outputId": "a37d0dcb-eb38-4619-90ae-d9039cde5623"
      },
      "source": [
        "!mkdir -p ~/.kaggle\n",
        "!cp kaggle.json ~/.kaggle/\n",
        "!chmod 600 ~/.kaggle/kaggle.json\n",
        "!kaggle -v\n"
      ],
      "execution_count": 3,
      "outputs": [
        {
          "output_type": "stream",
          "text": [
            "Kaggle API 1.5.6\n"
          ],
          "name": "stdout"
        }
      ]
    },
    {
      "cell_type": "code",
      "metadata": {
        "id": "IB_kz_w4K_pa",
        "colab_type": "code",
        "colab": {
          "base_uri": "https://localhost:8080/",
          "height": 68
        },
        "outputId": "01b95831-c71c-480a-d3e2-7a9b6df1697f"
      },
      "source": [
        "!kaggle competitions download -c classification-animal-classification\n"
      ],
      "execution_count": 4,
      "outputs": [
        {
          "output_type": "stream",
          "text": [
            "Downloading classification-animal-classification.zip to /content\n",
            "\r  0% 0.00/999 [00:00<?, ?B/s]\n",
            "\r100% 999/999 [00:00<00:00, 723kB/s]\n"
          ],
          "name": "stdout"
        }
      ]
    },
    {
      "cell_type": "code",
      "metadata": {
        "id": "6Tv8Tr0eLKe4",
        "colab_type": "code",
        "colab": {
          "base_uri": "https://localhost:8080/",
          "height": 85
        },
        "outputId": "b6ac61b6-6fcc-4ba9-eedf-e0699857a777"
      },
      "source": [
        "!unzip classification-animal-classification.zip"
      ],
      "execution_count": 5,
      "outputs": [
        {
          "output_type": "stream",
          "text": [
            "Archive:  classification-animal-classification.zip\n",
            "  inflating: test_des.csv            \n",
            "  inflating: test_summit_form.csv    \n",
            "  inflating: train.csv               \n"
          ],
          "name": "stdout"
        }
      ]
    },
    {
      "cell_type": "code",
      "metadata": {
        "id": "lasLHLv5LQzl",
        "colab_type": "code",
        "colab": {
          "base_uri": "https://localhost:8080/",
          "height": 85
        },
        "outputId": "758d0d5d-2221-4c24-f51b-f6481f6779d2"
      },
      "source": [
        "import torch\n",
        "import torch.optim as optim \n",
        "import torch.nn.functional as F \n",
        "# 소프트맥스 함수를 사용하기 위함. \n",
        "import numpy as np \n",
        "# numpy \n",
        "import pandas as pd\n",
        "# pandas\n",
        "\n",
        "torch.manual_seed(1)\n",
        "\n",
        "data_zoo = pd.read_csv('train.csv')\n",
        "data_zoo.head()\n",
        "#print(len(data_zoo))\n",
        "\n",
        "x_data = data_zoo.iloc[:,:-1]\n",
        "#x_data.head()\n",
        "\n",
        "y_data = data_zoo.iloc[:,[-1]]\n",
        "#y_data.head()\n",
        "\n",
        "print(x_data.shape)\n",
        "print(y_data.shape)\n",
        "\n",
        "x_train = torch.FloatTensor(x_data.values)\n",
        "y_train = torch.LongTensor(y_data.values)\n",
        "\n",
        "print(x_train.shape)\n",
        "y_train = y_train.view(80)\n",
        "print(y_train.shape)"
      ],
      "execution_count": 7,
      "outputs": [
        {
          "output_type": "stream",
          "text": [
            "(80, 16)\n",
            "(80, 1)\n",
            "torch.Size([80, 16])\n",
            "torch.Size([80])\n"
          ],
          "name": "stdout"
        }
      ]
    },
    {
      "cell_type": "code",
      "metadata": {
        "id": "gH5hj6NdMBzx",
        "colab_type": "code",
        "colab": {
          "base_uri": "https://localhost:8080/",
          "height": 374
        },
        "outputId": "f7d2c211-7df1-4cf6-9eed-4c56a223de44"
      },
      "source": [
        "nb_class = 7\n",
        "nb_data = len(y_train)\n",
        "\n",
        "w = torch.zeros((16, nb_class),requires_grad=True)\n",
        "b = torch.zeros(1,requires_grad=True)\n",
        "\n",
        "optimizer = optim.SGD([w,b], lr = 0.05)\n",
        "\n",
        "\n",
        "nb_epochs = 200000\n",
        "\n",
        "for epoch in range(nb_epochs+1):\n",
        "\n",
        "    hypothesis = F.softmax(x_train.matmul(w)+b, dim=1) # 소프트맥스 함수 / 가설함수 \n",
        "\n",
        "    y_one_hot = torch.zeros(nb_data, nb_class)\n",
        "    y_one_hot.scatter_(1, y_train.unsqueeze(1), 1)\n",
        "    cost = (y_one_hot * -torch.log(F.softmax(hypothesis, dim=1))).sum(dim=1).mean()\n",
        "    \n",
        "    optimizer.zero_grad()\n",
        "    cost.backward()\n",
        "    optimizer.step()\n",
        "\n",
        "    if epoch % 10000 == 0:\n",
        "        print('epoch {:4d}/{} cost : {:.6f}'.format(\n",
        "            epoch, nb_epochs,cost.item()\n",
        "        ))"
      ],
      "execution_count": 31,
      "outputs": [
        {
          "output_type": "stream",
          "text": [
            "epoch    0/200000 cost : 1.945910\n",
            "epoch 10000/200000 cost : 1.284917\n",
            "epoch 20000/200000 cost : 1.277221\n",
            "epoch 30000/200000 cost : 1.275366\n",
            "epoch 40000/200000 cost : 1.274523\n",
            "epoch 50000/200000 cost : 1.274028\n",
            "epoch 60000/200000 cost : 1.273694\n",
            "epoch 70000/200000 cost : 1.273452\n",
            "epoch 80000/200000 cost : 1.273266\n",
            "epoch 90000/200000 cost : 1.273118\n",
            "epoch 100000/200000 cost : 1.272996\n",
            "epoch 110000/200000 cost : 1.272891\n",
            "epoch 120000/200000 cost : 1.272794\n",
            "epoch 130000/200000 cost : 1.272677\n",
            "epoch 140000/200000 cost : 1.210975\n",
            "epoch 150000/200000 cost : 1.170471\n",
            "epoch 160000/200000 cost : 1.168599\n",
            "epoch 170000/200000 cost : 1.167811\n",
            "epoch 180000/200000 cost : 1.167355\n",
            "epoch 190000/200000 cost : 1.167053\n",
            "epoch 200000/200000 cost : 1.166837\n"
          ],
          "name": "stdout"
        }
      ]
    },
    {
      "cell_type": "code",
      "metadata": {
        "id": "vyRbdy35MgSK",
        "colab_type": "code",
        "colab": {
          "base_uri": "https://localhost:8080/",
          "height": 34
        },
        "outputId": "bf9db0f7-de54-4d1c-8d96-19a08e9e6593"
      },
      "source": [
        "hypothesis = F.softmax(x_train.matmul(w) + b, dim=1) # or .mm or @\n",
        "predict = torch.argmax(hypothesis, dim=1)\n",
        "#print(hypothesis)\n",
        "#print(predict)\n",
        "#print(y_train)\n",
        "\n",
        "# 정확도 계산 \n",
        "correct_prediction = predict.float() == y_train\n",
        "#print(correct_prediction)\n",
        "accuracy = correct_prediction.sum().item() / len(correct_prediction)\n",
        "print('The model has an accuracy of {:2.2f}% for the training set.'.format(accuracy * 100))\n"
      ],
      "execution_count": 32,
      "outputs": [
        {
          "output_type": "stream",
          "text": [
            "The model has an accuracy of 100.00% for the training set.\n"
          ],
          "name": "stdout"
        }
      ]
    },
    {
      "cell_type": "code",
      "metadata": {
        "id": "bskYBKqUOOPq",
        "colab_type": "code",
        "colab": {}
      },
      "source": [
        "test = pd.read_csv('test_des.csv',header=None)\n",
        "x_data = test.loc[:,0:15]\n",
        "x_data = np.array(x_data)\n",
        "x_test = torch.FloatTensor(x_data)\n",
        "hypothesis = F.softmax(x_test.matmul(w)+b,dim=1)\n",
        "predict = torch.argmax(hypothesis,dim=1)\n"
      ],
      "execution_count": 0,
      "outputs": []
    },
    {
      "cell_type": "code",
      "metadata": {
        "id": "ZvgKQA5GOocS",
        "colab_type": "code",
        "colab": {
          "base_uri": "https://localhost:8080/",
          "height": 51
        },
        "outputId": "eb742ff6-711e-48ee-a5c5-b35268dc4a75"
      },
      "source": [
        "predict"
      ],
      "execution_count": 21,
      "outputs": [
        {
          "output_type": "execute_result",
          "data": {
            "text/plain": [
              "tensor([1, 3, 1, 0, 6, 3, 1, 5, 4, 1, 4, 3, 0, 0, 1, 0, 5, 0, 1, 1],\n",
              "       grad_fn=<NotImplemented>)"
            ]
          },
          "metadata": {
            "tags": []
          },
          "execution_count": 21
        }
      ]
    },
    {
      "cell_type": "code",
      "metadata": {
        "id": "o6IKUidtOq4j",
        "colab_type": "code",
        "colab": {}
      },
      "source": [
        "predict = predict.detach().numpy().reshape(-1,1)\n",
        "id = np.array([i for i in range(20)]).reshape(-1,1)\n",
        "result = np.hstack([id,predict])\n",
        "df = pd.DataFrame(result,columns=[\"Id\",\"Category\"])\n",
        "df.to_csv(\"result.csv\",index=False,header=True)\n"
      ],
      "execution_count": 0,
      "outputs": []
    },
    {
      "cell_type": "code",
      "metadata": {
        "id": "Zxia_5cCPr1H",
        "colab_type": "code",
        "colab": {
          "base_uri": "https://localhost:8080/",
          "height": 357
        },
        "outputId": "404effed-8bb6-4df8-9962-760a48e85c82"
      },
      "source": [
        "predict"
      ],
      "execution_count": 24,
      "outputs": [
        {
          "output_type": "execute_result",
          "data": {
            "text/plain": [
              "array([[1],\n",
              "       [3],\n",
              "       [1],\n",
              "       [0],\n",
              "       [6],\n",
              "       [3],\n",
              "       [1],\n",
              "       [5],\n",
              "       [4],\n",
              "       [1],\n",
              "       [4],\n",
              "       [3],\n",
              "       [0],\n",
              "       [0],\n",
              "       [1],\n",
              "       [0],\n",
              "       [5],\n",
              "       [0],\n",
              "       [1],\n",
              "       [1]])"
            ]
          },
          "metadata": {
            "tags": []
          },
          "execution_count": 24
        }
      ]
    },
    {
      "cell_type": "code",
      "metadata": {
        "id": "JsYSZX-rP3wd",
        "colab_type": "code",
        "colab": {
          "base_uri": "https://localhost:8080/",
          "height": 357
        },
        "outputId": "110e3a67-0e0e-4ec8-c20e-41d69d6eb8d2"
      },
      "source": [
        "result"
      ],
      "execution_count": 25,
      "outputs": [
        {
          "output_type": "execute_result",
          "data": {
            "text/plain": [
              "array([[ 0,  1],\n",
              "       [ 1,  3],\n",
              "       [ 2,  1],\n",
              "       [ 3,  0],\n",
              "       [ 4,  6],\n",
              "       [ 5,  3],\n",
              "       [ 6,  1],\n",
              "       [ 7,  5],\n",
              "       [ 8,  4],\n",
              "       [ 9,  1],\n",
              "       [10,  4],\n",
              "       [11,  3],\n",
              "       [12,  0],\n",
              "       [13,  0],\n",
              "       [14,  1],\n",
              "       [15,  0],\n",
              "       [16,  5],\n",
              "       [17,  0],\n",
              "       [18,  1],\n",
              "       [19,  1]])"
            ]
          },
          "metadata": {
            "tags": []
          },
          "execution_count": 25
        }
      ]
    },
    {
      "cell_type": "code",
      "metadata": {
        "id": "4aePnv4vP9v8",
        "colab_type": "code",
        "colab": {
          "base_uri": "https://localhost:8080/",
          "height": 51
        },
        "outputId": "215e1d46-e961-4b46-97d3-575d87cc965e"
      },
      "source": [
        "!kaggle competitions submit -c classification-animal-classification -f result.csv -m \"14010974_이기택\""
      ],
      "execution_count": 26,
      "outputs": [
        {
          "output_type": "stream",
          "text": [
            "\r  0% 0.00/102 [00:00<?, ?B/s]\r100% 102/102 [00:00<00:00, 365B/s]\n",
            "Successfully submitted to Classification : Animal Classification"
          ],
          "name": "stdout"
        }
      ]
    }
  ]
}